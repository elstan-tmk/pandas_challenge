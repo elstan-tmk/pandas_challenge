{
 "cells": [
  {
   "cell_type": "markdown",
   "metadata": {},
   "source": [
    "### Note\n",
    "* Instructions have been included for each segment. You do not have to follow them exactly, but they are included to help you think through the steps."
   ]
  },
  {
   "cell_type": "code",
   "execution_count": 1,
   "metadata": {},
   "outputs": [],
   "source": [
    "# Dependencies and Setup\n",
    "import pandas as pd\n",
    "import numpy as np\n",
    "import os\n",
    "\n",
    "# File to Load (Remember to Change These)\n",
    "school_data_to_load = \"Resources/schools_complete.csv\"\n",
    "student_data_to_load = \"Resources/students_complete.csv\"\n",
    "\n",
    "# Read School and Student Data File and store into Pandas DataFrames\n",
    "school_data = pd.read_csv(school_data_to_load)\n",
    "student_data = pd.read_csv(student_data_to_load)\n",
    "\n",
    "# Combine the data into a single dataset.  \n",
    "all_df= pd.merge(student_data, school_data, how=\"left\", on=[\"school_name\", \"school_name\"])"
   ]
  },
  {
   "cell_type": "code",
   "execution_count": 2,
   "metadata": {},
   "outputs": [
    {
     "output_type": "execute_result",
     "data": {
      "text/plain": [
       "       Student ID       student_name gender grade         school_name  \\\n",
       "0               0       Paul Bradley      M   9th   Huang High School   \n",
       "1               1       Victor Smith      M  12th   Huang High School   \n",
       "2               2    Kevin Rodriguez      M  12th   Huang High School   \n",
       "3               3  Dr. Richard Scott      M  12th   Huang High School   \n",
       "4               4         Bonnie Ray      F   9th   Huang High School   \n",
       "...           ...                ...    ...   ...                 ...   \n",
       "39165       39165       Donna Howard      F  12th  Thomas High School   \n",
       "39166       39166          Dawn Bell      F  10th  Thomas High School   \n",
       "39167       39167     Rebecca Tanner      F   9th  Thomas High School   \n",
       "39168       39168       Desiree Kidd      F  10th  Thomas High School   \n",
       "39169       39169    Carolyn Jackson      F  11th  Thomas High School   \n",
       "\n",
       "       reading_score  math_score  School ID      type  size   budget  \n",
       "0                 66          79          0  District  2917  1910635  \n",
       "1                 94          61          0  District  2917  1910635  \n",
       "2                 90          60          0  District  2917  1910635  \n",
       "3                 67          58          0  District  2917  1910635  \n",
       "4                 97          84          0  District  2917  1910635  \n",
       "...              ...         ...        ...       ...   ...      ...  \n",
       "39165             99          90         14   Charter  1635  1043130  \n",
       "39166             95          70         14   Charter  1635  1043130  \n",
       "39167             73          84         14   Charter  1635  1043130  \n",
       "39168             99          90         14   Charter  1635  1043130  \n",
       "39169             95          75         14   Charter  1635  1043130  \n",
       "\n",
       "[39170 rows x 11 columns]"
      ],
      "text/html": "<div>\n<style scoped>\n    .dataframe tbody tr th:only-of-type {\n        vertical-align: middle;\n    }\n\n    .dataframe tbody tr th {\n        vertical-align: top;\n    }\n\n    .dataframe thead th {\n        text-align: right;\n    }\n</style>\n<table border=\"1\" class=\"dataframe\">\n  <thead>\n    <tr style=\"text-align: right;\">\n      <th></th>\n      <th>Student ID</th>\n      <th>student_name</th>\n      <th>gender</th>\n      <th>grade</th>\n      <th>school_name</th>\n      <th>reading_score</th>\n      <th>math_score</th>\n      <th>School ID</th>\n      <th>type</th>\n      <th>size</th>\n      <th>budget</th>\n    </tr>\n  </thead>\n  <tbody>\n    <tr>\n      <th>0</th>\n      <td>0</td>\n      <td>Paul Bradley</td>\n      <td>M</td>\n      <td>9th</td>\n      <td>Huang High School</td>\n      <td>66</td>\n      <td>79</td>\n      <td>0</td>\n      <td>District</td>\n      <td>2917</td>\n      <td>1910635</td>\n    </tr>\n    <tr>\n      <th>1</th>\n      <td>1</td>\n      <td>Victor Smith</td>\n      <td>M</td>\n      <td>12th</td>\n      <td>Huang High School</td>\n      <td>94</td>\n      <td>61</td>\n      <td>0</td>\n      <td>District</td>\n      <td>2917</td>\n      <td>1910635</td>\n    </tr>\n    <tr>\n      <th>2</th>\n      <td>2</td>\n      <td>Kevin Rodriguez</td>\n      <td>M</td>\n      <td>12th</td>\n      <td>Huang High School</td>\n      <td>90</td>\n      <td>60</td>\n      <td>0</td>\n      <td>District</td>\n      <td>2917</td>\n      <td>1910635</td>\n    </tr>\n    <tr>\n      <th>3</th>\n      <td>3</td>\n      <td>Dr. Richard Scott</td>\n      <td>M</td>\n      <td>12th</td>\n      <td>Huang High School</td>\n      <td>67</td>\n      <td>58</td>\n      <td>0</td>\n      <td>District</td>\n      <td>2917</td>\n      <td>1910635</td>\n    </tr>\n    <tr>\n      <th>4</th>\n      <td>4</td>\n      <td>Bonnie Ray</td>\n      <td>F</td>\n      <td>9th</td>\n      <td>Huang High School</td>\n      <td>97</td>\n      <td>84</td>\n      <td>0</td>\n      <td>District</td>\n      <td>2917</td>\n      <td>1910635</td>\n    </tr>\n    <tr>\n      <th>...</th>\n      <td>...</td>\n      <td>...</td>\n      <td>...</td>\n      <td>...</td>\n      <td>...</td>\n      <td>...</td>\n      <td>...</td>\n      <td>...</td>\n      <td>...</td>\n      <td>...</td>\n      <td>...</td>\n    </tr>\n    <tr>\n      <th>39165</th>\n      <td>39165</td>\n      <td>Donna Howard</td>\n      <td>F</td>\n      <td>12th</td>\n      <td>Thomas High School</td>\n      <td>99</td>\n      <td>90</td>\n      <td>14</td>\n      <td>Charter</td>\n      <td>1635</td>\n      <td>1043130</td>\n    </tr>\n    <tr>\n      <th>39166</th>\n      <td>39166</td>\n      <td>Dawn Bell</td>\n      <td>F</td>\n      <td>10th</td>\n      <td>Thomas High School</td>\n      <td>95</td>\n      <td>70</td>\n      <td>14</td>\n      <td>Charter</td>\n      <td>1635</td>\n      <td>1043130</td>\n    </tr>\n    <tr>\n      <th>39167</th>\n      <td>39167</td>\n      <td>Rebecca Tanner</td>\n      <td>F</td>\n      <td>9th</td>\n      <td>Thomas High School</td>\n      <td>73</td>\n      <td>84</td>\n      <td>14</td>\n      <td>Charter</td>\n      <td>1635</td>\n      <td>1043130</td>\n    </tr>\n    <tr>\n      <th>39168</th>\n      <td>39168</td>\n      <td>Desiree Kidd</td>\n      <td>F</td>\n      <td>10th</td>\n      <td>Thomas High School</td>\n      <td>99</td>\n      <td>90</td>\n      <td>14</td>\n      <td>Charter</td>\n      <td>1635</td>\n      <td>1043130</td>\n    </tr>\n    <tr>\n      <th>39169</th>\n      <td>39169</td>\n      <td>Carolyn Jackson</td>\n      <td>F</td>\n      <td>11th</td>\n      <td>Thomas High School</td>\n      <td>95</td>\n      <td>75</td>\n      <td>14</td>\n      <td>Charter</td>\n      <td>1635</td>\n      <td>1043130</td>\n    </tr>\n  </tbody>\n</table>\n<p>39170 rows × 11 columns</p>\n</div>"
     },
     "metadata": {},
     "execution_count": 2
    }
   ],
   "source": [
    "all_df"
   ]
  },
  {
   "cell_type": "markdown",
   "metadata": {},
   "source": [
    "## District Summary\n",
    "\n",
    "* Calculate the total number of schools\n",
    "\n",
    "* Calculate the total number of students\n",
    "\n",
    "* Calculate the total budget\n",
    "\n",
    "* Calculate the average math score \n",
    "\n",
    "* Calculate the average reading score\n",
    "\n",
    "* Calculate the percentage of students with a passing math score (70 or greater)\n",
    "\n",
    "* Calculate the percentage of students with a passing reading score (70 or greater)\n",
    "\n",
    "* Calculate the percentage of students who passed math **and** reading (% Overall Passing)\n",
    "\n",
    "* Create a dataframe to hold the above results\n",
    "\n",
    "* Optional: give the displayed data cleaner formatting"
   ]
  },
  {
   "source": [
    "# Since there are many same schools, have to find the unique:\n",
    "schoolnames = all_df[\"school_name\"].unique()\n",
    "number_school = len(schoolnames)\n",
    "number_school"
   ],
   "cell_type": "code",
   "metadata": {},
   "execution_count": 3,
   "outputs": [
    {
     "output_type": "execute_result",
     "data": {
      "text/plain": [
       "15"
      ]
     },
     "metadata": {},
     "execution_count": 3
    }
   ]
  },
  {
   "cell_type": "code",
   "execution_count": 4,
   "metadata": {},
   "outputs": [
    {
     "output_type": "execute_result",
     "data": {
      "text/plain": [
       "39170"
      ]
     },
     "metadata": {},
     "execution_count": 4
    }
   ],
   "source": [
    "# Total number of students\n",
    "total_students = all_df[\"student_name\"].count()\n",
    "total_students"
   ]
  },
  {
   "cell_type": "code",
   "execution_count": 5,
   "metadata": {},
   "outputs": [
    {
     "output_type": "execute_result",
     "data": {
      "text/plain": [
       "24649428"
      ]
     },
     "metadata": {},
     "execution_count": 5
    }
   ],
   "source": [
    "# Total Budget\n",
    "\n",
    "total_budget = school_data[\"budget\"].sum()\n",
    "total_budget"
   ]
  },
  {
   "cell_type": "code",
   "execution_count": 6,
   "metadata": {},
   "outputs": [
    {
     "output_type": "execute_result",
     "data": {
      "text/plain": [
       "78.98537145774827"
      ]
     },
     "metadata": {},
     "execution_count": 6
    }
   ],
   "source": [
    "# Average Math Score\n",
    "average_math = student_data[\"math_score\"].mean()\n",
    "average_math"
   ]
  },
  {
   "cell_type": "code",
   "execution_count": 7,
   "metadata": {},
   "outputs": [
    {
     "output_type": "execute_result",
     "data": {
      "text/plain": [
       "81.88"
      ]
     },
     "metadata": {},
     "execution_count": 7
    }
   ],
   "source": [
    "# Average Reading Score\n",
    "average_reading = round(student_data[\"reading_score\"].mean(), 2)\n",
    "average_reading"
   ]
  },
  {
   "cell_type": "code",
   "execution_count": 8,
   "metadata": {},
   "outputs": [
    {
     "output_type": "execute_result",
     "data": {
      "text/plain": [
       "74.98"
      ]
     },
     "metadata": {},
     "execution_count": 8
    }
   ],
   "source": [
    "# percentage of students with a passing math score (70 or greater)\n",
    "passing_math= student_data[student_data[\"math_score\"] >= 70 ][\"math_score\"].count()\n",
    "passing_math\n",
    "passing_math_percent = round(passing_math / total_students * 100, 2)\n",
    "passing_math_percent"
   ]
  },
  {
   "cell_type": "code",
   "execution_count": 9,
   "metadata": {},
   "outputs": [
    {
     "output_type": "execute_result",
     "data": {
      "text/plain": [
       "85.81"
      ]
     },
     "metadata": {},
     "execution_count": 9
    }
   ],
   "source": [
    "# percentage of students with a passing reading score (70 or greater)\n",
    "passing_reading= student_data.loc[student_data[\"reading_score\"] >= 70 ][\"reading_score\"].count()\n",
    "passing_reading\n",
    "passing_reading_percent = round(passing_reading / total_students * 100, 2)\n",
    "passing_reading_percent"
   ]
  },
  {
   "cell_type": "code",
   "execution_count": 10,
   "metadata": {},
   "outputs": [
    {
     "output_type": "execute_result",
     "data": {
      "text/plain": [
       "65.17"
      ]
     },
     "metadata": {},
     "execution_count": 10
    }
   ],
   "source": [
    "# percentage of students who passed math and reading (% Overall Passing)\n",
    "\n",
    "both_passing = student_data.loc[(student_data[\"reading_score\"] >= 70) & (student_data[\"math_score\"] >= 70)][\"student_name\"].count()\n",
    "\n",
    "overall_passing = round(both_passing / total_students *100, 2)\n",
    "\n",
    "overall_passing"
   ]
  },
  {
   "cell_type": "code",
   "execution_count": 11,
   "metadata": {},
   "outputs": [],
   "source": [
    "# Create a dataframe to hold the above results\n",
    "\n",
    "district_summary = pd.DataFrame({\n",
    "    \"Total Schools\": [number_school],\n",
    "    \"Total Students\": [total_students],\n",
    "    \"Total Budget\" : [total_budget],\n",
    "    \"Average Math Score\": [average_math],\n",
    "    \"Average Reading Score\": [average_reading],\n",
    "    \"Percent Passing Math\": [passing_math_percent],\n",
    "    \"Percent Passing Reading\": [passing_reading_percent],\n",
    "    \"Percent Overall Passing\": [overall_passing]\n",
    "})"
   ]
  },
  {
   "cell_type": "code",
   "execution_count": 12,
   "metadata": {},
   "outputs": [],
   "source": [
    "district_summary[\"Total Students\"] = district_summary[\"Total Students\"].map(\"{:,}\".format)\n",
    "\n",
    "district_summary[\"Total Budget\"] = district_summary[\"Total Budget\"].map(\"${:,}\".format)\n",
    "\n",
    "district_summary[\"Percent Passing Math\"] = district_summary[\"Percent Passing Math\"].map(\"{:,}%\".format)\n",
    "\n",
    "district_summary[\"Percent Passing Reading\"] = district_summary[\"Percent Passing Reading\"].map(\"{:,}%\".format)\n",
    "\n",
    "district_summary[\"Percent Overall Passing\"] = district_summary[\"Percent Overall Passing\"].map(\"{:,}%\".format)\n",
    "\n",
    "\n"
   ]
  },
  {
   "cell_type": "code",
   "execution_count": 13,
   "metadata": {},
   "outputs": [
    {
     "output_type": "execute_result",
     "data": {
      "text/plain": [
       "   Total Schools Total Students Total Budget  Average Math Score  \\\n",
       "0             15         39,170  $24,649,428           78.985371   \n",
       "\n",
       "   Average Reading Score Percent Passing Math Percent Passing Reading  \\\n",
       "0                  81.88               74.98%                  85.81%   \n",
       "\n",
       "  Percent Overall Passing  \n",
       "0                  65.17%  "
      ],
      "text/html": "<div>\n<style scoped>\n    .dataframe tbody tr th:only-of-type {\n        vertical-align: middle;\n    }\n\n    .dataframe tbody tr th {\n        vertical-align: top;\n    }\n\n    .dataframe thead th {\n        text-align: right;\n    }\n</style>\n<table border=\"1\" class=\"dataframe\">\n  <thead>\n    <tr style=\"text-align: right;\">\n      <th></th>\n      <th>Total Schools</th>\n      <th>Total Students</th>\n      <th>Total Budget</th>\n      <th>Average Math Score</th>\n      <th>Average Reading Score</th>\n      <th>Percent Passing Math</th>\n      <th>Percent Passing Reading</th>\n      <th>Percent Overall Passing</th>\n    </tr>\n  </thead>\n  <tbody>\n    <tr>\n      <th>0</th>\n      <td>15</td>\n      <td>39,170</td>\n      <td>$24,649,428</td>\n      <td>78.985371</td>\n      <td>81.88</td>\n      <td>74.98%</td>\n      <td>85.81%</td>\n      <td>65.17%</td>\n    </tr>\n  </tbody>\n</table>\n</div>"
     },
     "metadata": {},
     "execution_count": 13
    }
   ],
   "source": [
    "#displayed data cleaner formatting\n",
    "district_summary = district_summary[[\"Total Schools\",\n",
    "    \"Total Students\",\n",
    "    \"Total Budget\",\n",
    "    \"Average Math Score\",\n",
    "    \"Average Reading Score\",\n",
    "    \"Percent Passing Math\",\n",
    "    \"Percent Passing Reading\",\n",
    "    \"Percent Overall Passing\",]]\n",
    "district_summary"
   ]
  },
  {
   "cell_type": "code",
   "execution_count": null,
   "metadata": {},
   "outputs": [],
   "source": []
  },
  {
   "cell_type": "markdown",
   "metadata": {},
   "source": [
    "## School Summary"
   ]
  },
  {
   "cell_type": "markdown",
   "metadata": {},
   "source": [
    "* Create an overview table that summarizes key metrics about each school, including:\n",
    "  * School Name\n",
    "  * School Type\n",
    "  * Total Students\n",
    "  * Total School Budget\n",
    "  * Per Student Budget\n",
    "  * Average Math Score\n",
    "  * Average Reading Score\n",
    "  * % Passing Math\n",
    "  * % Passing Reading\n",
    "  * % Overall Passing (The percentage of students that passed math **and** reading.)\n",
    "  \n",
    "* Create a dataframe to hold the above results"
   ]
  },
  {
   "cell_type": "code",
   "execution_count": 14,
   "metadata": {},
   "outputs": [],
   "source": [
    "# summarize school names\n",
    "school_list= all_df.groupby(['school_name'])\n",
    "\n",
    "type_school = school_data.set_index('school_name')['type']\n",
    "\n",
    "school_total_student = school_list[\"Student ID\"].count()\n",
    "\n",
    "school_budget = school_data.set_index(\"school_name\")[\"budget\"]\n",
    "\n",
    "budget_per_student = school_budget / school_total_student\n",
    "\n",
    "school_average_math = round(school_list[\"math_score\"].mean(), 2)\n",
    "\n",
    "school_average_reading = round(school_list[\"reading_score\"].mean(), 2)\n",
    "\n",
    "school_avgpass_math = round(school_list[\"math_score\"].mean(), 2)\n",
    "\n",
    "school_avgpassing_reading = round(school_list[\"reading_score\"].mean(), 2)\n",
    "\n",
    "school_percent_math = round(all_df.loc[all_df[\"math_score\"] >= 70].groupby('school_name')['Student ID'].count() /school_total_student *100 ,2)\n",
    "\n",
    "school_percent_reading = round(all_df.loc[all_df[\"reading_score\"] >= 70].groupby('school_name')['Student ID'].count() /school_total_student *100, 2)\n",
    "\n",
    "school_both_passing = all_df.loc[(all_df[\"reading_score\"] >= 70) & (all_df[\"math_score\"] >= 70)].groupby('school_name')['Student ID'].count()\n",
    "\n",
    "school_percent_both = round(school_both_passing / school_total_student *100, 2)\n"
   ]
  },
  {
   "cell_type": "code",
   "execution_count": 15,
   "metadata": {},
   "outputs": [],
   "source": [
    "# summarize school type\n",
    "new_school_summary = pd.DataFrame({\n",
    "                                    \"Total Students\": school_total_student,\n",
    "                                    \"School Type\": type_school, \n",
    "                                    \"Total School Budget\": school_budget,\n",
    "                                    \"Budget Per Student\" : budget_per_student,\n",
    "                                    \"Average Math Score\" : school_average_math,\n",
    "                                    \"Average Reading Score\": school_average_reading,\n",
    "                                    \"% Math Score\": school_percent_math,\n",
    "                                    \"% Reading Score\": school_percent_reading,\n",
    "                                    \"% Overall Passing\": school_percent_both\n",
    "                                    })\n",
    "\n",
    "\n",
    "new_school_summary['Total Students'] = new_school_summary['Total Students'].map('{:,}'.format)\n",
    "\n",
    "new_school_summary['Total School Budget'] = new_school_summary['Total School Budget'].map(\"${:,.2f}\".format)\n",
    "\n",
    "new_school_summary['Budget Per Student'] = new_school_summary['Budget Per Student'].map(\"{:,.2f}\".format)\n",
    "\n",
    "new_school_summary['% Math Score'] = new_school_summary['% Math Score'].map(\"{:,.2f}%\".format)\n",
    "\n",
    "new_school_summary['% Reading Score'] = new_school_summary['% Reading Score'].map(\"{:,.2f}%\".format)\n",
    "\n",
    "new_school_summary['% Overall Passing'] = new_school_summary['% Overall Passing'].map(\"{:,.2f}%\".format)"
   ]
  },
  {
   "cell_type": "code",
   "execution_count": 16,
   "metadata": {},
   "outputs": [
    {
     "output_type": "execute_result",
     "data": {
      "text/plain": [
       "                     Total Students School Type Total School Budget  \\\n",
       "Bailey High School            4,976    District       $3,124,928.00   \n",
       "Cabrera High School           1,858     Charter       $1,081,356.00   \n",
       "Figueroa High School          2,949    District       $1,884,411.00   \n",
       "Ford High School              2,739    District       $1,763,916.00   \n",
       "Griffin High School           1,468     Charter         $917,500.00   \n",
       "\n",
       "                     Budget Per Student  Average Math Score  \\\n",
       "Bailey High School               628.00               77.05   \n",
       "Cabrera High School              582.00               83.06   \n",
       "Figueroa High School             639.00               76.71   \n",
       "Ford High School                 644.00               77.10   \n",
       "Griffin High School              625.00               83.35   \n",
       "\n",
       "                      Average Reading Score % Math Score % Reading Score  \\\n",
       "Bailey High School                    81.03       66.68%          81.93%   \n",
       "Cabrera High School                   83.98       94.13%          97.04%   \n",
       "Figueroa High School                  81.16       65.99%          80.74%   \n",
       "Ford High School                      80.75       68.31%          79.30%   \n",
       "Griffin High School                   83.82       93.39%          97.14%   \n",
       "\n",
       "                     % Overall Passing  \n",
       "Bailey High School              54.64%  \n",
       "Cabrera High School             91.33%  \n",
       "Figueroa High School            53.20%  \n",
       "Ford High School                54.29%  \n",
       "Griffin High School             90.60%  "
      ],
      "text/html": "<div>\n<style scoped>\n    .dataframe tbody tr th:only-of-type {\n        vertical-align: middle;\n    }\n\n    .dataframe tbody tr th {\n        vertical-align: top;\n    }\n\n    .dataframe thead th {\n        text-align: right;\n    }\n</style>\n<table border=\"1\" class=\"dataframe\">\n  <thead>\n    <tr style=\"text-align: right;\">\n      <th></th>\n      <th>Total Students</th>\n      <th>School Type</th>\n      <th>Total School Budget</th>\n      <th>Budget Per Student</th>\n      <th>Average Math Score</th>\n      <th>Average Reading Score</th>\n      <th>% Math Score</th>\n      <th>% Reading Score</th>\n      <th>% Overall Passing</th>\n    </tr>\n  </thead>\n  <tbody>\n    <tr>\n      <th>Bailey High School</th>\n      <td>4,976</td>\n      <td>District</td>\n      <td>$3,124,928.00</td>\n      <td>628.00</td>\n      <td>77.05</td>\n      <td>81.03</td>\n      <td>66.68%</td>\n      <td>81.93%</td>\n      <td>54.64%</td>\n    </tr>\n    <tr>\n      <th>Cabrera High School</th>\n      <td>1,858</td>\n      <td>Charter</td>\n      <td>$1,081,356.00</td>\n      <td>582.00</td>\n      <td>83.06</td>\n      <td>83.98</td>\n      <td>94.13%</td>\n      <td>97.04%</td>\n      <td>91.33%</td>\n    </tr>\n    <tr>\n      <th>Figueroa High School</th>\n      <td>2,949</td>\n      <td>District</td>\n      <td>$1,884,411.00</td>\n      <td>639.00</td>\n      <td>76.71</td>\n      <td>81.16</td>\n      <td>65.99%</td>\n      <td>80.74%</td>\n      <td>53.20%</td>\n    </tr>\n    <tr>\n      <th>Ford High School</th>\n      <td>2,739</td>\n      <td>District</td>\n      <td>$1,763,916.00</td>\n      <td>644.00</td>\n      <td>77.10</td>\n      <td>80.75</td>\n      <td>68.31%</td>\n      <td>79.30%</td>\n      <td>54.29%</td>\n    </tr>\n    <tr>\n      <th>Griffin High School</th>\n      <td>1,468</td>\n      <td>Charter</td>\n      <td>$917,500.00</td>\n      <td>625.00</td>\n      <td>83.35</td>\n      <td>83.82</td>\n      <td>93.39%</td>\n      <td>97.14%</td>\n      <td>90.60%</td>\n    </tr>\n  </tbody>\n</table>\n</div>"
     },
     "metadata": {},
     "execution_count": 16
    }
   ],
   "source": [
    "new_school_summary.head()"
   ]
  },
  {
   "cell_type": "markdown",
   "metadata": {},
   "source": [
    "## Top Performing Schools (By % Overall Passing)"
   ]
  },
  {
   "cell_type": "markdown",
   "metadata": {},
   "source": [
    "* Sort and display the top five performing schools by % overall passing."
   ]
  },
  {
   "cell_type": "code",
   "execution_count": 17,
   "metadata": {
    "scrolled": true
   },
   "outputs": [
    {
     "output_type": "execute_result",
     "data": {
      "text/plain": [
       "                    Total Students School Type Total School Budget  \\\n",
       "Cabrera High School          1,858     Charter       $1,081,356.00   \n",
       "Thomas High School           1,635     Charter       $1,043,130.00   \n",
       "Griffin High School          1,468     Charter         $917,500.00   \n",
       "Wilson High School           2,283     Charter       $1,319,574.00   \n",
       "Pena High School               962     Charter         $585,858.00   \n",
       "\n",
       "                    Budget Per Student  Average Math Score  \\\n",
       "Cabrera High School             582.00               83.06   \n",
       "Thomas High School              638.00               83.42   \n",
       "Griffin High School             625.00               83.35   \n",
       "Wilson High School              578.00               83.27   \n",
       "Pena High School                609.00               83.84   \n",
       "\n",
       "                     Average Reading Score % Math Score % Reading Score  \\\n",
       "Cabrera High School                  83.98       94.13%          97.04%   \n",
       "Thomas High School                   83.85       93.27%          97.31%   \n",
       "Griffin High School                  83.82       93.39%          97.14%   \n",
       "Wilson High School                   83.99       93.87%          96.54%   \n",
       "Pena High School                     84.04       94.59%          95.95%   \n",
       "\n",
       "                    % Overall Passing  \n",
       "Cabrera High School            91.33%  \n",
       "Thomas High School             90.95%  \n",
       "Griffin High School            90.60%  \n",
       "Wilson High School             90.58%  \n",
       "Pena High School               90.54%  "
      ],
      "text/html": "<div>\n<style scoped>\n    .dataframe tbody tr th:only-of-type {\n        vertical-align: middle;\n    }\n\n    .dataframe tbody tr th {\n        vertical-align: top;\n    }\n\n    .dataframe thead th {\n        text-align: right;\n    }\n</style>\n<table border=\"1\" class=\"dataframe\">\n  <thead>\n    <tr style=\"text-align: right;\">\n      <th></th>\n      <th>Total Students</th>\n      <th>School Type</th>\n      <th>Total School Budget</th>\n      <th>Budget Per Student</th>\n      <th>Average Math Score</th>\n      <th>Average Reading Score</th>\n      <th>% Math Score</th>\n      <th>% Reading Score</th>\n      <th>% Overall Passing</th>\n    </tr>\n  </thead>\n  <tbody>\n    <tr>\n      <th>Cabrera High School</th>\n      <td>1,858</td>\n      <td>Charter</td>\n      <td>$1,081,356.00</td>\n      <td>582.00</td>\n      <td>83.06</td>\n      <td>83.98</td>\n      <td>94.13%</td>\n      <td>97.04%</td>\n      <td>91.33%</td>\n    </tr>\n    <tr>\n      <th>Thomas High School</th>\n      <td>1,635</td>\n      <td>Charter</td>\n      <td>$1,043,130.00</td>\n      <td>638.00</td>\n      <td>83.42</td>\n      <td>83.85</td>\n      <td>93.27%</td>\n      <td>97.31%</td>\n      <td>90.95%</td>\n    </tr>\n    <tr>\n      <th>Griffin High School</th>\n      <td>1,468</td>\n      <td>Charter</td>\n      <td>$917,500.00</td>\n      <td>625.00</td>\n      <td>83.35</td>\n      <td>83.82</td>\n      <td>93.39%</td>\n      <td>97.14%</td>\n      <td>90.60%</td>\n    </tr>\n    <tr>\n      <th>Wilson High School</th>\n      <td>2,283</td>\n      <td>Charter</td>\n      <td>$1,319,574.00</td>\n      <td>578.00</td>\n      <td>83.27</td>\n      <td>83.99</td>\n      <td>93.87%</td>\n      <td>96.54%</td>\n      <td>90.58%</td>\n    </tr>\n    <tr>\n      <th>Pena High School</th>\n      <td>962</td>\n      <td>Charter</td>\n      <td>$585,858.00</td>\n      <td>609.00</td>\n      <td>83.84</td>\n      <td>84.04</td>\n      <td>94.59%</td>\n      <td>95.95%</td>\n      <td>90.54%</td>\n    </tr>\n  </tbody>\n</table>\n</div>"
     },
     "metadata": {},
     "execution_count": 17
    }
   ],
   "source": [
    "Top_performing = new_school_summary.sort_values(\"% Overall Passing\", ascending = False)\n",
    "Top_performing.head()"
   ]
  },
  {
   "cell_type": "markdown",
   "metadata": {},
   "source": [
    "## Bottom Performing Schools (By % Overall Passing)"
   ]
  },
  {
   "cell_type": "markdown",
   "metadata": {},
   "source": [
    "* Sort and display the five worst-performing schools by % overall passing."
   ]
  },
  {
   "cell_type": "code",
   "execution_count": 18,
   "metadata": {},
   "outputs": [
    {
     "output_type": "execute_result",
     "data": {
      "text/plain": [
       "                      Total Students School Type Total School Budget  \\\n",
       "Rodriguez High School          3,999    District       $2,547,363.00   \n",
       "Figueroa High School           2,949    District       $1,884,411.00   \n",
       "Huang High School              2,917    District       $1,910,635.00   \n",
       "Hernandez High School          4,635    District       $3,022,020.00   \n",
       "Johnson High School            4,761    District       $3,094,650.00   \n",
       "\n",
       "                      Budget Per Student  Average Math Score  \\\n",
       "Rodriguez High School             637.00               76.84   \n",
       "Figueroa High School              639.00               76.71   \n",
       "Huang High School                 655.00               76.63   \n",
       "Hernandez High School             652.00               77.29   \n",
       "Johnson High School               650.00               77.07   \n",
       "\n",
       "                       Average Reading Score % Math Score % Reading Score  \\\n",
       "Rodriguez High School                  80.74       66.37%          80.22%   \n",
       "Figueroa High School                   81.16       65.99%          80.74%   \n",
       "Huang High School                      81.18       65.68%          81.32%   \n",
       "Hernandez High School                  80.93       66.75%          80.86%   \n",
       "Johnson High School                    80.97       66.06%          81.22%   \n",
       "\n",
       "                      % Overall Passing  \n",
       "Rodriguez High School            52.99%  \n",
       "Figueroa High School             53.20%  \n",
       "Huang High School                53.51%  \n",
       "Hernandez High School            53.53%  \n",
       "Johnson High School              53.54%  "
      ],
      "text/html": "<div>\n<style scoped>\n    .dataframe tbody tr th:only-of-type {\n        vertical-align: middle;\n    }\n\n    .dataframe tbody tr th {\n        vertical-align: top;\n    }\n\n    .dataframe thead th {\n        text-align: right;\n    }\n</style>\n<table border=\"1\" class=\"dataframe\">\n  <thead>\n    <tr style=\"text-align: right;\">\n      <th></th>\n      <th>Total Students</th>\n      <th>School Type</th>\n      <th>Total School Budget</th>\n      <th>Budget Per Student</th>\n      <th>Average Math Score</th>\n      <th>Average Reading Score</th>\n      <th>% Math Score</th>\n      <th>% Reading Score</th>\n      <th>% Overall Passing</th>\n    </tr>\n  </thead>\n  <tbody>\n    <tr>\n      <th>Rodriguez High School</th>\n      <td>3,999</td>\n      <td>District</td>\n      <td>$2,547,363.00</td>\n      <td>637.00</td>\n      <td>76.84</td>\n      <td>80.74</td>\n      <td>66.37%</td>\n      <td>80.22%</td>\n      <td>52.99%</td>\n    </tr>\n    <tr>\n      <th>Figueroa High School</th>\n      <td>2,949</td>\n      <td>District</td>\n      <td>$1,884,411.00</td>\n      <td>639.00</td>\n      <td>76.71</td>\n      <td>81.16</td>\n      <td>65.99%</td>\n      <td>80.74%</td>\n      <td>53.20%</td>\n    </tr>\n    <tr>\n      <th>Huang High School</th>\n      <td>2,917</td>\n      <td>District</td>\n      <td>$1,910,635.00</td>\n      <td>655.00</td>\n      <td>76.63</td>\n      <td>81.18</td>\n      <td>65.68%</td>\n      <td>81.32%</td>\n      <td>53.51%</td>\n    </tr>\n    <tr>\n      <th>Hernandez High School</th>\n      <td>4,635</td>\n      <td>District</td>\n      <td>$3,022,020.00</td>\n      <td>652.00</td>\n      <td>77.29</td>\n      <td>80.93</td>\n      <td>66.75%</td>\n      <td>80.86%</td>\n      <td>53.53%</td>\n    </tr>\n    <tr>\n      <th>Johnson High School</th>\n      <td>4,761</td>\n      <td>District</td>\n      <td>$3,094,650.00</td>\n      <td>650.00</td>\n      <td>77.07</td>\n      <td>80.97</td>\n      <td>66.06%</td>\n      <td>81.22%</td>\n      <td>53.54%</td>\n    </tr>\n  </tbody>\n</table>\n</div>"
     },
     "metadata": {},
     "execution_count": 18
    }
   ],
   "source": [
    "bottom_performing = new_school_summary.sort_values(\"% Overall Passing\", ascending = True)\n",
    "bottom_performing.head()"
   ]
  },
  {
   "cell_type": "markdown",
   "metadata": {
    "collapsed": true
   },
   "source": [
    "## Math Scores by Grade"
   ]
  },
  {
   "cell_type": "markdown",
   "metadata": {},
   "source": [
    "* Create a table that lists the average Math Score for students of each grade level (9th, 10th, 11th, 12th) at each school.\n",
    "\n",
    "  * Create a pandas series for each grade. Hint: use a conditional statement.\n",
    "  \n",
    "  * Group each series by school\n",
    "  \n",
    "  * Combine the series into a dataframe\n",
    "  \n",
    "  * Optional: give the displayed data cleaner formatting"
   ]
  },
  {
   "cell_type": "code",
   "execution_count": 19,
   "metadata": {},
   "outputs": [
    {
     "output_type": "execute_result",
     "data": {
      "text/plain": [
       "                          9th    10th    11th    12th\n",
       "school_name                                          \n",
       "Bailey High School     77.084  76.997  77.516  76.492\n",
       "Cabrera High School    83.095  83.155  82.766  83.277\n",
       "Figueroa High School   76.403  76.540  76.884  77.151\n",
       "Ford High School       77.361  77.672  76.918  76.180\n",
       "Griffin High School    82.044  84.229  83.842  83.356\n",
       "Hernandez High School  77.438  77.337  77.136  77.187\n",
       "Holden High School     83.787  83.430  85.000  82.855\n",
       "Huang High School      77.027  75.909  76.447  77.226\n",
       "Johnson High School    77.188  76.691  77.492  76.863\n",
       "Pena High School       83.625  83.372  84.328  84.122\n",
       "Rodriguez High School  76.860  76.612  76.396  77.691\n",
       "Shelton High School    83.421  82.917  83.383  83.779\n",
       "Thomas High School     83.590  83.088  83.499  83.497\n",
       "Wilson High School     83.086  83.724  83.195  83.036\n",
       "Wright High School     83.265  84.010  83.837  83.645"
      ],
      "text/html": "<div>\n<style scoped>\n    .dataframe tbody tr th:only-of-type {\n        vertical-align: middle;\n    }\n\n    .dataframe tbody tr th {\n        vertical-align: top;\n    }\n\n    .dataframe thead th {\n        text-align: right;\n    }\n</style>\n<table border=\"1\" class=\"dataframe\">\n  <thead>\n    <tr style=\"text-align: right;\">\n      <th></th>\n      <th>9th</th>\n      <th>10th</th>\n      <th>11th</th>\n      <th>12th</th>\n    </tr>\n    <tr>\n      <th>school_name</th>\n      <th></th>\n      <th></th>\n      <th></th>\n      <th></th>\n    </tr>\n  </thead>\n  <tbody>\n    <tr>\n      <th>Bailey High School</th>\n      <td>77.084</td>\n      <td>76.997</td>\n      <td>77.516</td>\n      <td>76.492</td>\n    </tr>\n    <tr>\n      <th>Cabrera High School</th>\n      <td>83.095</td>\n      <td>83.155</td>\n      <td>82.766</td>\n      <td>83.277</td>\n    </tr>\n    <tr>\n      <th>Figueroa High School</th>\n      <td>76.403</td>\n      <td>76.540</td>\n      <td>76.884</td>\n      <td>77.151</td>\n    </tr>\n    <tr>\n      <th>Ford High School</th>\n      <td>77.361</td>\n      <td>77.672</td>\n      <td>76.918</td>\n      <td>76.180</td>\n    </tr>\n    <tr>\n      <th>Griffin High School</th>\n      <td>82.044</td>\n      <td>84.229</td>\n      <td>83.842</td>\n      <td>83.356</td>\n    </tr>\n    <tr>\n      <th>Hernandez High School</th>\n      <td>77.438</td>\n      <td>77.337</td>\n      <td>77.136</td>\n      <td>77.187</td>\n    </tr>\n    <tr>\n      <th>Holden High School</th>\n      <td>83.787</td>\n      <td>83.430</td>\n      <td>85.000</td>\n      <td>82.855</td>\n    </tr>\n    <tr>\n      <th>Huang High School</th>\n      <td>77.027</td>\n      <td>75.909</td>\n      <td>76.447</td>\n      <td>77.226</td>\n    </tr>\n    <tr>\n      <th>Johnson High School</th>\n      <td>77.188</td>\n      <td>76.691</td>\n      <td>77.492</td>\n      <td>76.863</td>\n    </tr>\n    <tr>\n      <th>Pena High School</th>\n      <td>83.625</td>\n      <td>83.372</td>\n      <td>84.328</td>\n      <td>84.122</td>\n    </tr>\n    <tr>\n      <th>Rodriguez High School</th>\n      <td>76.860</td>\n      <td>76.612</td>\n      <td>76.396</td>\n      <td>77.691</td>\n    </tr>\n    <tr>\n      <th>Shelton High School</th>\n      <td>83.421</td>\n      <td>82.917</td>\n      <td>83.383</td>\n      <td>83.779</td>\n    </tr>\n    <tr>\n      <th>Thomas High School</th>\n      <td>83.590</td>\n      <td>83.088</td>\n      <td>83.499</td>\n      <td>83.497</td>\n    </tr>\n    <tr>\n      <th>Wilson High School</th>\n      <td>83.086</td>\n      <td>83.724</td>\n      <td>83.195</td>\n      <td>83.036</td>\n    </tr>\n    <tr>\n      <th>Wright High School</th>\n      <td>83.265</td>\n      <td>84.010</td>\n      <td>83.837</td>\n      <td>83.645</td>\n    </tr>\n  </tbody>\n</table>\n</div>"
     },
     "metadata": {},
     "execution_count": 19
    }
   ],
   "source": [
    "math_9th = round(all_df.loc[all_df[\"grade\"] == \"9th\"].groupby(\"school_name\")[\"math_score\"].mean(), 3)\n",
    "math_10th = round(all_df.loc[all_df[\"grade\"] == \"10th\"].groupby(\"school_name\")[\"math_score\"].mean(), 3)\n",
    "math_11th = round(all_df.loc[all_df[\"grade\"] == \"11th\"].groupby(\"school_name\")[\"math_score\"].mean(), 3)\n",
    "math_12th = round(all_df.loc[all_df[\"grade\"] == \"12th\"].groupby(\"school_name\")[\"math_score\"].mean(), 3)\n",
    "\n",
    "math_avg_df = pd.DataFrame({\n",
    "    \"9th\" : math_9th,\n",
    "    \"10th\" : math_10th,\n",
    "    \"11th\" : math_11th,\n",
    "    \"12th\" : math_12th\n",
    "})\n",
    "\n",
    "math_avg_df = math_avg_df[[\"9th\", \"10th\",\"11th\",\"12th\"]]\n",
    "\n",
    "math_avg_df"
   ]
  },
  {
   "cell_type": "markdown",
   "metadata": {},
   "source": [
    "## Reading Score by Grade "
   ]
  },
  {
   "cell_type": "markdown",
   "metadata": {},
   "source": [
    "* Perform the same operations as above for reading scores"
   ]
  },
  {
   "cell_type": "code",
   "execution_count": 20,
   "metadata": {},
   "outputs": [
    {
     "output_type": "execute_result",
     "data": {
      "text/plain": [
       "                          9th    10th    11th    12th\n",
       "school_name                                          \n",
       "Bailey High School     81.303  80.907  80.946  80.912\n",
       "Cabrera High School    83.676  84.253  83.788  84.288\n",
       "Figueroa High School   81.199  81.409  80.640  81.385\n",
       "Ford High School       80.633  81.263  80.404  80.662\n",
       "Griffin High School    83.369  83.707  84.288  84.014\n",
       "Hernandez High School  80.867  80.660  81.396  80.857\n",
       "Holden High School     83.677  83.325  83.816  84.699\n",
       "Huang High School      81.290  81.512  81.417  80.306\n",
       "Johnson High School    81.261  80.773  80.616  81.228\n",
       "Pena High School       83.807  83.612  84.336  84.591\n",
       "Rodriguez High School  80.993  80.630  80.865  80.376\n",
       "Shelton High School    84.123  83.442  84.374  82.782\n",
       "Thomas High School     83.729  84.254  83.586  83.831\n",
       "Wilson High School     83.940  84.021  83.765  84.318\n",
       "Wright High School     83.833  83.813  84.156  84.073"
      ],
      "text/html": "<div>\n<style scoped>\n    .dataframe tbody tr th:only-of-type {\n        vertical-align: middle;\n    }\n\n    .dataframe tbody tr th {\n        vertical-align: top;\n    }\n\n    .dataframe thead th {\n        text-align: right;\n    }\n</style>\n<table border=\"1\" class=\"dataframe\">\n  <thead>\n    <tr style=\"text-align: right;\">\n      <th></th>\n      <th>9th</th>\n      <th>10th</th>\n      <th>11th</th>\n      <th>12th</th>\n    </tr>\n    <tr>\n      <th>school_name</th>\n      <th></th>\n      <th></th>\n      <th></th>\n      <th></th>\n    </tr>\n  </thead>\n  <tbody>\n    <tr>\n      <th>Bailey High School</th>\n      <td>81.303</td>\n      <td>80.907</td>\n      <td>80.946</td>\n      <td>80.912</td>\n    </tr>\n    <tr>\n      <th>Cabrera High School</th>\n      <td>83.676</td>\n      <td>84.253</td>\n      <td>83.788</td>\n      <td>84.288</td>\n    </tr>\n    <tr>\n      <th>Figueroa High School</th>\n      <td>81.199</td>\n      <td>81.409</td>\n      <td>80.640</td>\n      <td>81.385</td>\n    </tr>\n    <tr>\n      <th>Ford High School</th>\n      <td>80.633</td>\n      <td>81.263</td>\n      <td>80.404</td>\n      <td>80.662</td>\n    </tr>\n    <tr>\n      <th>Griffin High School</th>\n      <td>83.369</td>\n      <td>83.707</td>\n      <td>84.288</td>\n      <td>84.014</td>\n    </tr>\n    <tr>\n      <th>Hernandez High School</th>\n      <td>80.867</td>\n      <td>80.660</td>\n      <td>81.396</td>\n      <td>80.857</td>\n    </tr>\n    <tr>\n      <th>Holden High School</th>\n      <td>83.677</td>\n      <td>83.325</td>\n      <td>83.816</td>\n      <td>84.699</td>\n    </tr>\n    <tr>\n      <th>Huang High School</th>\n      <td>81.290</td>\n      <td>81.512</td>\n      <td>81.417</td>\n      <td>80.306</td>\n    </tr>\n    <tr>\n      <th>Johnson High School</th>\n      <td>81.261</td>\n      <td>80.773</td>\n      <td>80.616</td>\n      <td>81.228</td>\n    </tr>\n    <tr>\n      <th>Pena High School</th>\n      <td>83.807</td>\n      <td>83.612</td>\n      <td>84.336</td>\n      <td>84.591</td>\n    </tr>\n    <tr>\n      <th>Rodriguez High School</th>\n      <td>80.993</td>\n      <td>80.630</td>\n      <td>80.865</td>\n      <td>80.376</td>\n    </tr>\n    <tr>\n      <th>Shelton High School</th>\n      <td>84.123</td>\n      <td>83.442</td>\n      <td>84.374</td>\n      <td>82.782</td>\n    </tr>\n    <tr>\n      <th>Thomas High School</th>\n      <td>83.729</td>\n      <td>84.254</td>\n      <td>83.586</td>\n      <td>83.831</td>\n    </tr>\n    <tr>\n      <th>Wilson High School</th>\n      <td>83.940</td>\n      <td>84.021</td>\n      <td>83.765</td>\n      <td>84.318</td>\n    </tr>\n    <tr>\n      <th>Wright High School</th>\n      <td>83.833</td>\n      <td>83.813</td>\n      <td>84.156</td>\n      <td>84.073</td>\n    </tr>\n  </tbody>\n</table>\n</div>"
     },
     "metadata": {},
     "execution_count": 20
    }
   ],
   "source": [
    "reading_9th = round(all_df.loc[all_df[\"grade\"] == \"9th\"].groupby(\"school_name\")[\"reading_score\"].mean(), 3)\n",
    "reading_10th = round(all_df.loc[all_df[\"grade\"] == \"10th\"].groupby(\"school_name\")[\"reading_score\"].mean(), 3)\n",
    "reading_11th = round(all_df.loc[all_df[\"grade\"] == \"11th\"].groupby(\"school_name\")[\"reading_score\"].mean(), 3)\n",
    "reading_12th = round(all_df.loc[all_df[\"grade\"] == \"12th\"].groupby(\"school_name\")[\"reading_score\"].mean(), 3)\n",
    "\n",
    "reading_avg_df = pd.DataFrame({\n",
    "    \"9th\" : reading_9th,\n",
    "    \"10th\" : reading_10th,\n",
    "    \"11th\" : reading_11th,\n",
    "    \"12th\" : reading_12th\n",
    "})\n",
    "\n",
    "reading_avg_df = reading_avg_df[[\"9th\", \"10th\",\"11th\",\"12th\"]]\n",
    "\n",
    "reading_avg_df"
   ]
  },
  {
   "cell_type": "markdown",
   "metadata": {},
   "source": [
    "## Scores by School Spending"
   ]
  },
  {
   "cell_type": "markdown",
   "metadata": {},
   "source": [
    "* Create a table that breaks down school performances based on average Spending Ranges (Per Student). Use 4 reasonable bins to group school spending. Include in the table each of the following:\n",
    "  * Average Math Score\n",
    "  * Average Reading Score\n",
    "  * % Passing Math\n",
    "  * % Passing Reading\n",
    "  * Overall Passing Rate (Average of the above two)"
   ]
  },
  {
   "cell_type": "code",
   "execution_count": 21,
   "metadata": {},
   "outputs": [],
   "source": [
    "# From Highest Spending to Lowest Spending\n",
    "sort_spend_df = new_school_summary.sort_values([\"% Overall Passing\"], ascending = False)\n"
   ]
  },
  {
   "cell_type": "code",
   "execution_count": 25,
   "metadata": {},
   "outputs": [
    {
     "output_type": "execute_result",
     "data": {
      "text/plain": [
       "                   Average Math Score Average Reading Score % Passing Math  \\\n",
       "Per Student Budget                                                           \n",
       "< $585                          83.36                 83.96         93.70%   \n",
       "$585 - $630                     79.98                 82.31         79.11%   \n",
       "$630 - $645                     77.82                 81.30         70.62%   \n",
       "$645 - $680                     77.05                 81.01         66.23%   \n",
       "\n",
       "                   % Passing Reading % Overall Passing  \n",
       "Per Student Budget                                      \n",
       "< $585                        96.69%            90.64%  \n",
       "$585 - $630                   88.51%            70.94%  \n",
       "$630 - $645                   82.60%            58.84%  \n",
       "$645 - $680                   81.11%            53.53%  "
      ],
      "text/html": "<div>\n<style scoped>\n    .dataframe tbody tr th:only-of-type {\n        vertical-align: middle;\n    }\n\n    .dataframe tbody tr th {\n        vertical-align: top;\n    }\n\n    .dataframe thead th {\n        text-align: right;\n    }\n</style>\n<table border=\"1\" class=\"dataframe\">\n  <thead>\n    <tr style=\"text-align: right;\">\n      <th></th>\n      <th>Average Math Score</th>\n      <th>Average Reading Score</th>\n      <th>% Passing Math</th>\n      <th>% Passing Reading</th>\n      <th>% Overall Passing</th>\n    </tr>\n    <tr>\n      <th>Per Student Budget</th>\n      <th></th>\n      <th></th>\n      <th></th>\n      <th></th>\n      <th></th>\n    </tr>\n  </thead>\n  <tbody>\n    <tr>\n      <th>&lt; $585</th>\n      <td>83.36</td>\n      <td>83.96</td>\n      <td>93.70%</td>\n      <td>96.69%</td>\n      <td>90.64%</td>\n    </tr>\n    <tr>\n      <th>$585 - $630</th>\n      <td>79.98</td>\n      <td>82.31</td>\n      <td>79.11%</td>\n      <td>88.51%</td>\n      <td>70.94%</td>\n    </tr>\n    <tr>\n      <th>$630 - $645</th>\n      <td>77.82</td>\n      <td>81.30</td>\n      <td>70.62%</td>\n      <td>82.60%</td>\n      <td>58.84%</td>\n    </tr>\n    <tr>\n      <th>$645 - $680</th>\n      <td>77.05</td>\n      <td>81.01</td>\n      <td>66.23%</td>\n      <td>81.11%</td>\n      <td>53.53%</td>\n    </tr>\n  </tbody>\n</table>\n</div>"
     },
     "metadata": {},
     "execution_count": 25
    }
   ],
   "source": [
    "spending_bins = [0, 585, 630, 645, 680]\n",
    "spending_groups = [\"< $585\", \"$585 - $630\", \"$630 - $645\", \"$645 - $680\"]\n",
    "\n",
    "\n",
    "all_df['spending_bins'] = pd.cut(all_df['budget']/all_df['size'], spending_bins, labels = spending_groups)\n",
    "\n",
    "gp_spend = all_df.groupby(\"spending_bins\")\n",
    "\n",
    "spend_avg_math = gp_spend[\"math_score\"].mean()\n",
    "spend_avg_reading = gp_spend[\"reading_score\"].mean()\n",
    "spend_pass_math = all_df[all_df['math_score'] >= 70].groupby('spending_bins')['Student ID'].count()/gp_spend['Student ID'].count() *100\n",
    "spend_pass_read = all_df[all_df['reading_score'] >= 70].groupby('spending_bins')['Student ID'].count()/gp_spend['Student ID'].count() *100\n",
    "spend_overall = all_df[(all_df['reading_score'] >= 70) & (all_df['math_score'] >= 70)].groupby('spending_bins')['Student ID'].count()/gp_spend['Student ID'].count()*100\n",
    "\n",
    "# Set up data frame\n",
    "spending_ranges = pd.DataFrame({\n",
    "    \"Average Math Score\": spend_avg_math,\n",
    "    \"Average Reading Score\" : spend_avg_reading,\n",
    "    \"% Passing Math\": spend_pass_math,\n",
    "    \"% Passing Reading\": spend_pass_read,\n",
    "    \"% Overall Passing\": spend_overall\n",
    "\n",
    "})\n",
    "\n",
    "spending_ranges.index.name = \"Per Student Budget\"\n",
    "spending_ranges = spending_ranges.reindex(spending_groups)\n",
    "\n",
    "# New format\n",
    "spending_ranges[\"Average Math Score\"]= spending_ranges[\"Average Math Score\"].map('{:,.2f}'.format) \n",
    "spending_ranges[\"Average Reading Score\"]= spending_ranges[\"Average Reading Score\"].map('{:,.2f}'.format) \n",
    "spending_ranges[\"% Passing Math\"]= spending_ranges[\"% Passing Math\"].map('{:,.2f}%'.format) \n",
    "spending_ranges[\"% Passing Reading\"]= spending_ranges[\"% Passing Reading\"].map('{:,.2f}%'.format) \n",
    "spending_ranges[\"% Overall Passing\"]= spending_ranges[\"% Overall Passing\"].map('{:,.2f}%'.format) \n",
    "                             \n",
    "spending_ranges"
   ]
  },
  {
   "cell_type": "markdown",
   "metadata": {},
   "source": [
    "## Scores by School Size"
   ]
  },
  {
   "cell_type": "markdown",
   "metadata": {},
   "source": [
    "* Perform the same operations as above, based on school size."
   ]
  },
  {
   "cell_type": "code",
   "execution_count": 26,
   "metadata": {
    "scrolled": true
   },
   "outputs": [
    {
     "output_type": "execute_result",
     "data": {
      "text/plain": [
       "                     Average Math Score Average Reading Score % Passing Math  \\\n",
       "School Size                                                                    \n",
       "Small (< 1000)                    83.83                 83.97         93.95%   \n",
       "Medium (1000 - 2000)              83.37                 83.87         93.62%   \n",
       "Large(2000 - 5000)                77.48                 81.20         68.65%   \n",
       "\n",
       "                     % Passing Reading % Overall Passing  \n",
       "School Size                                               \n",
       "Small (< 1000)                  96.04%            90.14%  \n",
       "Medium (1000 - 2000)            96.77%            90.62%  \n",
       "Large(2000 - 5000)              82.13%            56.57%  "
      ],
      "text/html": "<div>\n<style scoped>\n    .dataframe tbody tr th:only-of-type {\n        vertical-align: middle;\n    }\n\n    .dataframe tbody tr th {\n        vertical-align: top;\n    }\n\n    .dataframe thead th {\n        text-align: right;\n    }\n</style>\n<table border=\"1\" class=\"dataframe\">\n  <thead>\n    <tr style=\"text-align: right;\">\n      <th></th>\n      <th>Average Math Score</th>\n      <th>Average Reading Score</th>\n      <th>% Passing Math</th>\n      <th>% Passing Reading</th>\n      <th>% Overall Passing</th>\n    </tr>\n    <tr>\n      <th>School Size</th>\n      <th></th>\n      <th></th>\n      <th></th>\n      <th></th>\n      <th></th>\n    </tr>\n  </thead>\n  <tbody>\n    <tr>\n      <th>Small (&lt; 1000)</th>\n      <td>83.83</td>\n      <td>83.97</td>\n      <td>93.95%</td>\n      <td>96.04%</td>\n      <td>90.14%</td>\n    </tr>\n    <tr>\n      <th>Medium (1000 - 2000)</th>\n      <td>83.37</td>\n      <td>83.87</td>\n      <td>93.62%</td>\n      <td>96.77%</td>\n      <td>90.62%</td>\n    </tr>\n    <tr>\n      <th>Large(2000 - 5000)</th>\n      <td>77.48</td>\n      <td>81.20</td>\n      <td>68.65%</td>\n      <td>82.13%</td>\n      <td>56.57%</td>\n    </tr>\n  </tbody>\n</table>\n</div>"
     },
     "metadata": {},
     "execution_count": 26
    }
   ],
   "source": [
    "size_bins = [0, 1000, 2000, 5000]\n",
    "size_groups = [\"Small (< 1000)\", \"Medium (1000 - 2000)\", \"Large(2000 - 5000)\"]\n",
    "\n",
    "\n",
    "all_df['size_bins'] = pd.cut(all_df['size'], size_bins, labels = size_groups)\n",
    "\n",
    "gp_size = all_df.groupby(\"size_bins\")\n",
    "\n",
    "size_avg_math = gp_size[\"math_score\"].mean()\n",
    "size_avg_reading = gp_size[\"reading_score\"].mean()\n",
    "size_pass_math = all_df[all_df['math_score'] >= 70].groupby('size_bins')['Student ID'].count()/gp_size['Student ID'].count() *100\n",
    "size_pass_read = all_df[all_df['reading_score'] >= 70].groupby('size_bins')['Student ID'].count()/gp_size['Student ID'].count() *100\n",
    "size_overall = all_df[(all_df['reading_score'] >= 70) & (all_df['math_score'] >= 70)].groupby('size_bins')['Student ID'].count()/gp_size['Student ID'].count()*100\n",
    "\n",
    "# Set up data frame\n",
    "size_ranges = pd.DataFrame({\n",
    "    \"Average Math Score\": size_avg_math,\n",
    "    \"Average Reading Score\" : size_avg_reading,\n",
    "    \"% Passing Math\": size_pass_math,\n",
    "    \"% Passing Reading\": size_pass_read,\n",
    "    \"% Overall Passing\": size_overall\n",
    "\n",
    "})\n",
    "\n",
    "size_ranges.index.name = \"School Size\"\n",
    "size_ranges = size_ranges.reindex(size_groups)\n",
    "\n",
    "# New format\n",
    "size_ranges[\"Average Math Score\"]= size_ranges[\"Average Math Score\"].map('{:,.2f}'.format) \n",
    "size_ranges[\"Average Reading Score\"]= size_ranges[\"Average Reading Score\"].map('{:,.2f}'.format) \n",
    "size_ranges[\"% Passing Math\"]= size_ranges[\"% Passing Math\"].map('{:,.2f}%'.format) \n",
    "size_ranges[\"% Passing Reading\"]= size_ranges[\"% Passing Reading\"].map('{:,.2f}%'.format) \n",
    "size_ranges[\"% Overall Passing\"]= size_ranges[\"% Overall Passing\"].map('{:,.2f}%'.format) \n",
    "                             \n",
    "size_ranges"
   ]
  },
  {
   "cell_type": "markdown",
   "metadata": {},
   "source": [
    "## Scores by School Type"
   ]
  },
  {
   "cell_type": "markdown",
   "metadata": {},
   "source": [
    "* Perform the same operations as above, based on school type"
   ]
  },
  {
   "cell_type": "code",
   "execution_count": 27,
   "metadata": {},
   "outputs": [
    {
     "output_type": "execute_result",
     "data": {
      "text/plain": [
       "            Average Math Score Average Reading Score % Passing Math  \\\n",
       "School Type                                                           \n",
       "Charter                  83.41                 83.90         93.70%   \n",
       "District                 76.99                 80.96         66.52%   \n",
       "\n",
       "            % Passing Reading % Overall Passing  \n",
       "School Type                                      \n",
       "Charter                96.65%            90.56%  \n",
       "District               80.91%            53.70%  "
      ],
      "text/html": "<div>\n<style scoped>\n    .dataframe tbody tr th:only-of-type {\n        vertical-align: middle;\n    }\n\n    .dataframe tbody tr th {\n        vertical-align: top;\n    }\n\n    .dataframe thead th {\n        text-align: right;\n    }\n</style>\n<table border=\"1\" class=\"dataframe\">\n  <thead>\n    <tr style=\"text-align: right;\">\n      <th></th>\n      <th>Average Math Score</th>\n      <th>Average Reading Score</th>\n      <th>% Passing Math</th>\n      <th>% Passing Reading</th>\n      <th>% Overall Passing</th>\n    </tr>\n    <tr>\n      <th>School Type</th>\n      <th></th>\n      <th></th>\n      <th></th>\n      <th></th>\n      <th></th>\n    </tr>\n  </thead>\n  <tbody>\n    <tr>\n      <th>Charter</th>\n      <td>83.41</td>\n      <td>83.90</td>\n      <td>93.70%</td>\n      <td>96.65%</td>\n      <td>90.56%</td>\n    </tr>\n    <tr>\n      <th>District</th>\n      <td>76.99</td>\n      <td>80.96</td>\n      <td>66.52%</td>\n      <td>80.91%</td>\n      <td>53.70%</td>\n    </tr>\n  </tbody>\n</table>\n</div>"
     },
     "metadata": {},
     "execution_count": 27
    }
   ],
   "source": [
    "\n",
    "\n",
    "gp_type = all_df.groupby(\"type\")\n",
    "\n",
    "type_avg_math = gp_type[\"math_score\"].mean()\n",
    "type_avg_reading = gp_type[\"reading_score\"].mean()\n",
    "type_pass_math = all_df[all_df['math_score'] >= 70].groupby('type')['Student ID'].count()/gp_type['Student ID'].count() *100\n",
    "type_pass_read = all_df[all_df['reading_score'] >= 70].groupby('type')['Student ID'].count()/gp_type['Student ID'].count() *100\n",
    "type_overall = all_df[(all_df['reading_score'] >= 70) & (all_df['math_score'] >= 70)].groupby('type')['Student ID'].count()/gp_type['Student ID'].count()*100\n",
    "\n",
    "# Set up data frame\n",
    "type_ranges = pd.DataFrame({\n",
    "    \"Average Math Score\": type_avg_math,\n",
    "    \"Average Reading Score\" : type_avg_reading,\n",
    "    \"% Passing Math\": type_pass_math,\n",
    "    \"% Passing Reading\": type_pass_read,\n",
    "    \"% Overall Passing\": type_overall\n",
    "\n",
    "})\n",
    "\n",
    "type_ranges.index.name = \"School Type\"\n",
    "\n",
    "# New format\n",
    "type_ranges[\"Average Math Score\"]= type_ranges[\"Average Math Score\"].map('{:,.2f}'.format) \n",
    "type_ranges[\"Average Reading Score\"]= type_ranges[\"Average Reading Score\"].map('{:,.2f}'.format) \n",
    "type_ranges[\"% Passing Math\"]= type_ranges[\"% Passing Math\"].map('{:,.2f}%'.format) \n",
    "type_ranges[\"% Passing Reading\"]= type_ranges[\"% Passing Reading\"].map('{:,.2f}%'.format) \n",
    "type_ranges[\"% Overall Passing\"]= type_ranges[\"% Overall Passing\"].map('{:,.2f}%'.format) \n",
    "                             \n",
    "type_ranges"
   ]
  },
  {
   "cell_type": "code",
   "execution_count": null,
   "metadata": {},
   "outputs": [],
   "source": []
  }
 ],
 "metadata": {
  "anaconda-cloud": {},
  "kernel_info": {
   "name": "python3"
  },
  "kernelspec": {
   "name": "python3",
   "display_name": "Python 3.6.10 64-bit ('PythonData': conda)",
   "metadata": {
    "interpreter": {
     "hash": "1288794132947fb731e2ff8db79c2cb79091a999d6c37abea283cb60dd543bd7"
    }
   }
  },
  "language_info": {
   "codemirror_mode": {
    "name": "ipython",
    "version": 3
   },
   "file_extension": ".py",
   "mimetype": "text/x-python",
   "name": "python",
   "nbconvert_exporter": "python",
   "pygments_lexer": "ipython3",
   "version": "3.6.10-final"
  },
  "latex_envs": {
   "LaTeX_envs_menu_present": true,
   "autoclose": false,
   "autocomplete": true,
   "bibliofile": "biblio.bib",
   "cite_by": "apalike",
   "current_citInitial": 1,
   "eqLabelWithNumbers": true,
   "eqNumInitial": 1,
   "hotkeys": {
    "equation": "Ctrl-E",
    "itemize": "Ctrl-I"
   },
   "labels_anchors": false,
   "latex_user_defs": false,
   "report_style_numbering": false,
   "user_envs_cfg": false
  },
  "nteract": {
   "version": "0.8.4"
  }
 },
 "nbformat": 4,
 "nbformat_minor": 1
}